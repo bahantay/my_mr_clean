{
 "cells": [
  {
   "cell_type": "code",
   "execution_count": 23,
   "metadata": {},
   "outputs": [],
   "source": [
    "import requests\n",
    "import re\n",
    "import seaborn as sns\n",
    "from itertools import islice"
   ]
  },
  {
   "cell_type": "code",
   "execution_count": 24,
   "metadata": {},
   "outputs": [],
   "source": [
    "url = \"https://en.wikipedia.org/w/api.php\"\n",
    "res = requests.get(url, params={\"action\":\"query\", \"prop\":\"extracts\", \"titles\":\"Ozone_layer\", \"format\":\"json\"})"
   ]
  },
  {
   "cell_type": "code",
   "execution_count": 25,
   "metadata": {},
   "outputs": [],
   "source": [
    "json_data = res.json()"
   ]
  },
  {
   "cell_type": "code",
   "execution_count": 26,
   "metadata": {},
   "outputs": [],
   "source": [
    "raw_text = json_data['query']['pages']['22834']['extract']"
   ]
  },
  {
   "cell_type": "code",
   "execution_count": 27,
   "metadata": {},
   "outputs": [],
   "source": [
    "def cleanhtml(raw_html):\n",
    "  cleanr = re.compile('<.*?>')\n",
    "  cleantext = re.sub(cleanr, '', raw_html)\n",
    "  return cleantext"
   ]
  },
  {
   "cell_type": "code",
   "execution_count": 28,
   "metadata": {},
   "outputs": [],
   "source": [
    "no_html_text = cleanhtml(raw_text)"
   ]
  },
  {
   "cell_type": "code",
   "execution_count": 29,
   "metadata": {},
   "outputs": [],
   "source": [
    "def merge_contents(data):\n",
    "    return re.split(\"\\. |, |\\.|\\n| |-|\\'\", data)\n",
    "\n",
    "merge_content = merge_contents(no_html_text)"
   ]
  },
  {
   "cell_type": "code",
   "execution_count": 30,
   "metadata": {},
   "outputs": [],
   "source": [
    "def tokenize(content):\n",
    "    return [word for word in content if word.isalnum() and not word.isdigit()]\n",
    "\n",
    "collection = tokenize(merge_content)"
   ]
  },
  {
   "cell_type": "code",
   "execution_count": 31,
   "metadata": {},
   "outputs": [],
   "source": [
    "def lower_collection(collection):\n",
    "    return [word.lower() for word in collection]\n",
    "    \n",
    "plain_text = lower_collection(collection)"
   ]
  },
  {
   "cell_type": "code",
   "execution_count": 32,
   "metadata": {},
   "outputs": [],
   "source": [
    "def count_frequency(collection):\n",
    "    frequency = {}\n",
    "    \n",
    "    for word in collection:\n",
    "        if word in frequency:\n",
    "            frequency[word] += 1\n",
    "        else:\n",
    "            frequency[word] = 1\n",
    "    \n",
    "    return frequency\n",
    "\n",
    "freq_of_words = count_frequency(plain_text)"
   ]
  },
  {
   "cell_type": "code",
   "execution_count": 33,
   "metadata": {},
   "outputs": [],
   "source": [
    "freq_of_words = {k:v for k,v in sorted(freq_of_words.items(),\n",
    "                key=lambda item: item[1], \n",
    "                reverse=True)}"
   ]
  },
  {
   "cell_type": "code",
   "execution_count": 36,
   "metadata": {},
   "outputs": [
    {
     "name": "stdout",
     "output_type": "stream",
     "text": [
      "['the', 'of', 'ozone', 'and', 'in', 'to', 'is', 'a', 'layer', 's']\n"
     ]
    }
   ],
   "source": [
    "def print_most_frequent(frequencies, n):\n",
    "    print (list(islice(frequencies, n)))\n",
    "\n",
    "\n",
    "print_most_frequent(freq_of_words, 10)"
   ]
  },
  {
   "cell_type": "code",
   "execution_count": 38,
   "metadata": {},
   "outputs": [
    {
     "data": {
      "text/plain": [
       "<AxesSubplot:>"
      ]
     },
     "execution_count": 38,
     "metadata": {},
     "output_type": "execute_result"
    },
    {
     "data": {
      "image/png": "[encoded data removed]",
      "text/plain": [
       "<Figure size 432x288 with 1 Axes>"
      ]
     },
     "metadata": {
      "needs_background": "light"
     },
     "output_type": "display_data"
    }
   ],
   "source": [
    "    xx = [v for k,v in freq_of_words.items()]\n",
    "    yy = [k for k,v in freq_of_words.items()]\n",
    "\n",
    "    sns.barplot(x=xx[0:20], y=yy[0:20])"
   ]
  },
  {
   "cell_type": "code",
   "execution_count": 43,
   "metadata": {},
   "outputs": [],
   "source": [
    "def remove_stop_words(words, stop_words):\n",
    "    meaningful_text = [word for word in words if word not in stop_words]\n",
    "    freq_of_meaningful_words = count_frequency(meaningful_text)\n",
    "    freq_of_meaningful_words = {k:v for k,v in sorted(freq_of_meaningful_words.items(),\n",
    "                                key=lambda item: item[1], \n",
    "                                reverse=True)}\n",
    "    return freq_of_meaningful_words"
   ]
  },
  {
   "cell_type": "code",
   "execution_count": 44,
   "metadata": {},
   "outputs": [],
   "source": [
    "stop_words = ['o', 'm', 'and', 'the', 'a', 'of', 'to', 'in', 'about', 'to', 'is', 'an',\n",
    "                 'by', 'that', 'for', 'was', 'were', 'are', 'from', 'at', 'it',\n",
    "                 'as', 'be', 'these', 'on', 'with', 'this', 'have', 'has',\n",
    "                 'other', 'because', 'can', 'its', 'out', 'into', 'or', 'over',\n",
    "                 'all', 'most', 'which', 'less', 'while', 'above', 'than', 's']"
   ]
  },
  {
   "cell_type": "code",
   "execution_count": 46,
   "metadata": {},
   "outputs": [],
   "source": [
    "filtered_collection = remove_stop_words(plain_text, stop_words)"
   ]
  },
  {
   "cell_type": "code",
   "execution_count": 47,
   "metadata": {},
   "outputs": [
    {
     "data": {
      "text/plain": [
       "<AxesSubplot:>"
      ]
     },
     "execution_count": 47,
     "metadata": {},
     "output_type": "execute_result"
    },
    {
     "data": {
      "image/png": "[encoded data removed]",
      "text/plain": [
       "<Figure size 432x288 with 1 Axes>"
      ]
     },
     "metadata": {
      "needs_background": "light"
     },
     "output_type": "display_data"
    }
   ],
   "source": [
    "xxx = [v for k,v in filtered_collection.items()]\n",
    "yyy = [k for k,v in filtered_collection.items()]\n",
    "\n",
    "sns.barplot(x=xxx[0:20], y=yyy[0:20])"
   ]
  }
 ],
 "metadata": {
  "kernelspec": {
   "display_name": "Python 3",
   "language": "python",
   "name": "python3"
  },
  "language_info": {
   "codemirror_mode": {
    "name": "ipython",
    "version": 3
   },
   "file_extension": ".py",
   "mimetype": "text/x-python",
   "name": "python",
   "nbconvert_exporter": "python",
   "pygments_lexer": "ipython3",
   "version": "3.8.5"
  }
 },
 "nbformat": 4,
 "nbformat_minor": 4
}
